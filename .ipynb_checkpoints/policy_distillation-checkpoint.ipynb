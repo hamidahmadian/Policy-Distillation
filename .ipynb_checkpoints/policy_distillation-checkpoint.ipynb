{
 "cells": [
  {
   "cell_type": "code",
   "execution_count": 1,
   "metadata": {},
   "outputs": [],
   "source": [
    "import os\n",
    "import numpy as np\n",
    "\n",
    "from baselines.common.atari_wrappers import make_atari, wrap_deepmind\n",
    "from baselines import bench\n",
    "\n",
    "from utils.gym_wrapper import WrapPyTorch\n",
    "from utils.agent import agent\n",
    "from utils.config import *"
   ]
  },
  {
   "cell_type": "code",
   "execution_count": 3,
   "metadata": {},
   "outputs": [],
   "source": [
    "env_id = \"BreakoutNoFrameskip-v4\"\n",
    "env = make_atari(env_id)\n",
    "env = bench.Monitor(env, os.path.join(\"log\", env_id))\n",
    "env = wrap_deepmind(env, episode_life=True, clip_rewards=True, frame_stack=False, scale=True)\n",
    "env = WrapPyTorch(env)\n",
    "model = agent(env=env)"
   ]
  },
  {
   "cell_type": "code",
   "execution_count": 4,
   "metadata": {},
   "outputs": [],
   "source": [
    "model.load_w()"
   ]
  },
  {
   "cell_type": "code",
   "execution_count": 15,
   "metadata": {},
   "outputs": [],
   "source": [
    "import torch\n",
    "import torch.nn.functional as F"
   ]
  },
  {
   "cell_type": "code",
   "execution_count": 48,
   "metadata": {},
   "outputs": [],
   "source": [
    "list_of_observation = []\n",
    "list_of_q_values = []\n",
    "observation = env.reset()\n",
    "\n",
    "for frame_idx in range(1, 100 + 1):\n",
    "    X = torch.tensor([observation], device=device, dtype=torch.float)\n",
    "    Q = model.model(X).data\n",
    "    list_of_observation.append(X)\n",
    "    list_of_q_values.append(Q)\n",
    "    action = model.get_action(observation, 0.01)\n",
    "\n",
    "    prev_observation=observation\n",
    "    observation, _, done, _ = env.step(action)\n",
    "    observation = None if done else observation\n",
    "\n",
    "    if done:\n",
    "        observation = env.reset()"
   ]
  },
  {
   "cell_type": "code",
   "execution_count": 50,
   "metadata": {
    "scrolled": true
   },
   "outputs": [
    {
     "data": {
      "text/plain": [
       "tensor([[0.0554, 0.0487, 0.0382, 0.0564],\n",
       "        [0.0546, 0.0420, 0.0361, 0.0589],\n",
       "        [0.0784, 0.0778, 0.0707, 0.0781],\n",
       "        [0.0699, 0.0727, 0.0744, 0.0749],\n",
       "        [0.0720, 0.0664, 0.0850, 0.0713],\n",
       "        [0.0699, 0.0605, 0.0803, 0.0686],\n",
       "        [0.0824, 0.0816, 0.0766, 0.0816],\n",
       "        [0.0577, 0.0567, 0.0492, 0.0543],\n",
       "        [0.0612, 0.0595, 0.0510, 0.0567],\n",
       "        [0.1865, 0.1920, 0.1673, 0.1832],\n",
       "        [0.1576, 0.1552, 0.1501, 0.1652],\n",
       "        [0.1623, 0.1566, 0.1359, 0.1571],\n",
       "        [0.1294, 0.1253, 0.1043, 0.1137],\n",
       "        [0.1312, 0.1237, 0.1128, 0.1132],\n",
       "        [0.1112, 0.1069, 0.0962, 0.0997],\n",
       "        [0.1234, 0.1226, 0.1133, 0.1178],\n",
       "        [0.1034, 0.1036, 0.0945, 0.1001],\n",
       "        [0.1017, 0.0998, 0.0915, 0.1059],\n",
       "        [0.0930, 0.0853, 0.0863, 0.0967],\n",
       "        [0.0905, 0.0860, 0.0961, 0.0946],\n",
       "        [0.0964, 0.0931, 0.0965, 0.1003],\n",
       "        [0.0922, 0.0874, 0.0941, 0.0907],\n",
       "        [0.0854, 0.0792, 0.0898, 0.0835],\n",
       "        [0.0989, 0.0934, 0.0933, 0.0936],\n",
       "        [0.0836, 0.0816, 0.0811, 0.0817],\n",
       "        [0.0791, 0.0742, 0.0730, 0.0716],\n",
       "        [0.0643, 0.0631, 0.0539, 0.0586],\n",
       "        [0.0643, 0.0631, 0.0539, 0.0586],\n",
       "        [0.0643, 0.0631, 0.0539, 0.0586],\n",
       "        [0.0643, 0.0631, 0.0539, 0.0586],\n",
       "        [0.0643, 0.0631, 0.0539, 0.0586],\n",
       "        [0.0643, 0.0631, 0.0539, 0.0586],\n",
       "        [0.1760, 0.1812, 0.1639, 0.1741],\n",
       "        [0.1499, 0.1457, 0.1476, 0.1580],\n",
       "        [0.1493, 0.1436, 0.1305, 0.1452],\n",
       "        [0.1174, 0.1126, 0.0998, 0.1041],\n",
       "        [0.1206, 0.1128, 0.1089, 0.1047],\n",
       "        [0.1026, 0.0978, 0.0930, 0.0922],\n",
       "        [0.1157, 0.1144, 0.1104, 0.1113],\n",
       "        [0.0959, 0.0955, 0.0918, 0.0934],\n",
       "        [0.0929, 0.0902, 0.0878, 0.0977],\n",
       "        [0.0841, 0.0763, 0.0828, 0.0891],\n",
       "        [0.0818, 0.0773, 0.0924, 0.0876],\n",
       "        [0.0859, 0.0830, 0.0913, 0.0907],\n",
       "        [0.1065, 0.1005, 0.0966, 0.1048],\n",
       "        [0.0806, 0.0771, 0.0749, 0.0833],\n",
       "        [0.0840, 0.0790, 0.0844, 0.0818],\n",
       "        [0.0954, 0.0898, 0.0963, 0.0921],\n",
       "        [0.0517, 0.0417, 0.0483, 0.0526],\n",
       "        [0.0374, 0.0292, 0.0278, 0.0410],\n",
       "        [0.0636, 0.0644, 0.0628, 0.0653],\n",
       "        [0.0646, 0.0620, 0.0840, 0.0656],\n",
       "        [0.0581, 0.0503, 0.0743, 0.0586],\n",
       "        [0.0710, 0.0704, 0.0714, 0.0729],\n",
       "        [0.0663, 0.0672, 0.0661, 0.0688],\n",
       "        [0.1758, 0.1788, 0.1559, 0.1726],\n",
       "        [0.1515, 0.1467, 0.1439, 0.1614],\n",
       "        [0.1476, 0.1390, 0.1215, 0.1419],\n",
       "        [0.1220, 0.1156, 0.0985, 0.1095],\n",
       "        [0.1267, 0.1166, 0.1089, 0.1113],\n",
       "        [0.1096, 0.1035, 0.0952, 0.0996],\n",
       "        [0.1225, 0.1202, 0.1134, 0.1184],\n",
       "        [0.1021, 0.1006, 0.0939, 0.0999],\n",
       "        [0.1005, 0.0970, 0.0910, 0.1054],\n",
       "        [0.0911, 0.0836, 0.0871, 0.0953],\n",
       "        [0.0888, 0.0863, 0.0984, 0.0946],\n",
       "        [0.0920, 0.0912, 0.0961, 0.0967],\n",
       "        [0.0900, 0.0873, 0.0955, 0.0900],\n",
       "        [0.0836, 0.0793, 0.0909, 0.0827],\n",
       "        [0.0941, 0.0887, 0.0916, 0.0902],\n",
       "        [0.0795, 0.0775, 0.0797, 0.0794],\n",
       "        [0.0583, 0.0458, 0.0467, 0.0587],\n",
       "        [0.0455, 0.0342, 0.0275, 0.0481],\n",
       "        [0.0710, 0.0714, 0.0663, 0.0719],\n",
       "        [0.0723, 0.0700, 0.0892, 0.0721],\n",
       "        [0.0656, 0.0587, 0.0795, 0.0653],\n",
       "        [0.0785, 0.0779, 0.0754, 0.0787],\n",
       "        [0.0744, 0.0752, 0.0706, 0.0750],\n",
       "        [0.1783, 0.1784, 0.1756, 0.1819],\n",
       "        [0.1644, 0.1615, 0.1624, 0.1661],\n",
       "        [0.1287, 0.1264, 0.1521, 0.1361],\n",
       "        [0.1083, 0.1015, 0.1243, 0.1079],\n",
       "        [0.1042, 0.0982, 0.1074, 0.1087],\n",
       "        [0.1211, 0.1140, 0.1213, 0.1255],\n",
       "        [0.1035, 0.0984, 0.1156, 0.1052],\n",
       "        [0.1090, 0.1033, 0.1189, 0.1093],\n",
       "        [0.1109, 0.0991, 0.1099, 0.1123],\n",
       "        [0.1172, 0.1077, 0.1169, 0.1178],\n",
       "        [0.0972, 0.0931, 0.1096, 0.0979],\n",
       "        [0.0722, 0.0665, 0.0865, 0.0721],\n",
       "        [0.0936, 0.0854, 0.0905, 0.0893],\n",
       "        [0.0627, 0.0641, 0.0640, 0.0611],\n",
       "        [0.0718, 0.0730, 0.0696, 0.0673],\n",
       "        [0.0518, 0.0518, 0.0474, 0.0492],\n",
       "        [0.0518, 0.0518, 0.0474, 0.0492],\n",
       "        [0.0518, 0.0518, 0.0474, 0.0492],\n",
       "        [0.0518, 0.0518, 0.0474, 0.0492],\n",
       "        [0.0518, 0.0518, 0.0474, 0.0492],\n",
       "        [0.0518, 0.0518, 0.0474, 0.0492],\n",
       "        [0.2323, 0.2251, 0.2130, 0.2423]], device='cuda:0')"
      ]
     },
     "execution_count": 50,
     "metadata": {},
     "output_type": "execute_result"
    }
   ],
   "source": [
    "Y = torch.Tensor(100,1,4).cuda()\n",
    "torch.cat(list_of_q_values, out=Y)"
   ]
  },
  {
   "cell_type": "code",
   "execution_count": 29,
   "metadata": {
    "scrolled": true
   },
   "outputs": [
    {
     "data": {
      "text/plain": [
       "tensor([[[[0., 0., 0.,  ..., 0., 0., 0.],\n",
       "          [0., 0., 0.,  ..., 0., 0., 0.],\n",
       "          [0., 0., 0.,  ..., 0., 0., 0.],\n",
       "          ...,\n",
       "          [0., 0., 0.,  ..., 0., 0., 0.],\n",
       "          [0., 0., 0.,  ..., 0., 0., 0.],\n",
       "          [0., 0., 0.,  ..., 0., 0., 0.]]],\n",
       "\n",
       "\n",
       "        [[[0., 0., 0.,  ..., 0., 0., 0.],\n",
       "          [0., 0., 0.,  ..., 0., 0., 0.],\n",
       "          [0., 0., 0.,  ..., 0., 0., 0.],\n",
       "          ...,\n",
       "          [0., 0., 0.,  ..., 0., 0., 0.],\n",
       "          [0., 0., 0.,  ..., 0., 0., 0.],\n",
       "          [0., 0., 0.,  ..., 0., 0., 0.]]],\n",
       "\n",
       "\n",
       "        [[[0., 0., 0.,  ..., 0., 0., 0.],\n",
       "          [0., 0., 0.,  ..., 0., 0., 0.],\n",
       "          [0., 0., 0.,  ..., 0., 0., 0.],\n",
       "          ...,\n",
       "          [0., 0., 0.,  ..., 0., 0., 0.],\n",
       "          [0., 0., 0.,  ..., 0., 0., 0.],\n",
       "          [0., 0., 0.,  ..., 0., 0., 0.]]],\n",
       "\n",
       "\n",
       "        ...,\n",
       "\n",
       "\n",
       "        [[[0., 0., 0.,  ..., 0., 0., 0.],\n",
       "          [0., 0., 0.,  ..., 0., 0., 0.],\n",
       "          [0., 0., 0.,  ..., 0., 0., 0.],\n",
       "          ...,\n",
       "          [0., 0., 0.,  ..., 0., 0., 0.],\n",
       "          [0., 0., 0.,  ..., 0., 0., 0.],\n",
       "          [0., 0., 0.,  ..., 0., 0., 0.]]],\n",
       "\n",
       "\n",
       "        [[[0., 0., 0.,  ..., 0., 0., 0.],\n",
       "          [0., 0., 0.,  ..., 0., 0., 0.],\n",
       "          [0., 0., 0.,  ..., 0., 0., 0.],\n",
       "          ...,\n",
       "          [0., 0., 0.,  ..., 0., 0., 0.],\n",
       "          [0., 0., 0.,  ..., 0., 0., 0.],\n",
       "          [0., 0., 0.,  ..., 0., 0., 0.]]],\n",
       "\n",
       "\n",
       "        [[[0., 0., 0.,  ..., 0., 0., 0.],\n",
       "          [0., 0., 0.,  ..., 0., 0., 0.],\n",
       "          [0., 0., 0.,  ..., 0., 0., 0.],\n",
       "          ...,\n",
       "          [0., 0., 0.,  ..., 0., 0., 0.],\n",
       "          [0., 0., 0.,  ..., 0., 0., 0.],\n",
       "          [0., 0., 0.,  ..., 0., 0., 0.]]]], device='cuda:0')"
      ]
     },
     "execution_count": 29,
     "metadata": {},
     "output_type": "execute_result"
    }
   ],
   "source": [
    "inputs = torch.Tensor(100, 1,1,84,84).cuda()\n",
    "torch.cat(list_of_observation, out=inputs)"
   ]
  },
  {
   "cell_type": "code",
   "execution_count": 14,
   "metadata": {},
   "outputs": [
    {
     "name": "stderr",
     "output_type": "stream",
     "text": [
      "/home/hamid/anaconda3/envs/doom-rl/lib/python3.6/site-packages/ipykernel_launcher.py:2: DeprecationWarning: `imshow` is deprecated!\n",
      "`imshow` is deprecated in SciPy 1.0.0, and will be removed in 1.2.0.\n",
      "Use ``matplotlib.pyplot.imshow`` instead.\n",
      "  \n"
     ]
    }
   ],
   "source": [
    "from scipy.misc import imshow\n",
    "imshow(list_of_observation[90][0])"
   ]
  },
  {
   "cell_type": "code",
   "execution_count": 84,
   "metadata": {},
   "outputs": [
    {
     "data": {
      "text/plain": [
       "torch.Size([100, 7056])"
      ]
     },
     "execution_count": 84,
     "metadata": {},
     "output_type": "execute_result"
    }
   ],
   "source": [
    "x.shape"
   ]
  },
  {
   "cell_type": "code",
   "execution_count": 85,
   "metadata": {},
   "outputs": [
    {
     "data": {
      "text/plain": [
       "torch.Size([100, 4])"
      ]
     },
     "execution_count": 85,
     "metadata": {},
     "output_type": "execute_result"
    }
   ],
   "source": [
    "Y.shape"
   ]
  },
  {
   "cell_type": "code",
   "execution_count": 83,
   "metadata": {},
   "outputs": [],
   "source": [
    "x = torch.squeeze(inputs,1).view(100,84*84)"
   ]
  },
  {
   "cell_type": "code",
   "execution_count": 131,
   "metadata": {},
   "outputs": [],
   "source": [
    "class Net(torch.nn.Module):\n",
    "    def __init__(self, n_feature, n_hidden, n_output):\n",
    "        super(Net, self).__init__()\n",
    "        self.hidden = torch.nn.Linear(n_feature, n_hidden)   # hidden layer\n",
    "        self.predict = torch.nn.Linear(n_hidden, n_output)   # output layer\n",
    "\n",
    "    def forward(self, x):\n",
    "        x = F.relu(self.hidden(x))      # activation function for hidden layer\n",
    "        x = self.predict(x)             # linear output\n",
    "        return x"
   ]
  },
  {
   "cell_type": "code",
   "execution_count": 132,
   "metadata": {},
   "outputs": [],
   "source": [
    "net = Net(n_feature=84*84, n_hidden=100, n_output=4)"
   ]
  },
  {
   "cell_type": "code",
   "execution_count": 133,
   "metadata": {},
   "outputs": [],
   "source": [
    "device = torch.device(\"cuda\" if torch.cuda.is_available() else \"cpu\")"
   ]
  },
  {
   "cell_type": "code",
   "execution_count": 134,
   "metadata": {},
   "outputs": [],
   "source": [
    "net = net.to(device)"
   ]
  },
  {
   "cell_type": "code",
   "execution_count": 135,
   "metadata": {},
   "outputs": [],
   "source": [
    "optimizer = torch.optim.SGD(net.parameters(), lr=0.2)\n",
    "loss_func = torch.nn.MSELoss()  # this is for regression mean squared loss"
   ]
  },
  {
   "cell_type": "code",
   "execution_count": 136,
   "metadata": {},
   "outputs": [],
   "source": [
    "for t in range(1000):\n",
    "    prediction = net(x)     # input x and predict based on x\n",
    "\n",
    "    loss = loss_func(prediction, Y)     # must be (1. nn output, 2. target)\n",
    "\n",
    "    optimizer.zero_grad()   # clear gradients for next train\n",
    "    loss.backward(retain_graph=True)         # backpropagation, compute gradients\n",
    "    optimizer.step()        # apply gradients"
   ]
  },
  {
   "cell_type": "code",
   "execution_count": null,
   "metadata": {},
   "outputs": [],
   "source": []
  },
  {
   "cell_type": "code",
   "execution_count": 137,
   "metadata": {},
   "outputs": [],
   "source": [
    "observation = env.reset()"
   ]
  },
  {
   "cell_type": "code",
   "execution_count": 130,
   "metadata": {
    "scrolled": true
   },
   "outputs": [
    {
     "ename": "AttributeError",
     "evalue": "'Net' object has no attribute 'model'",
     "output_type": "error",
     "traceback": [
      "\u001b[0;31m---------------------------------------------------------------------------\u001b[0m",
      "\u001b[0;31mAttributeError\u001b[0m                            Traceback (most recent call last)",
      "\u001b[0;32m<ipython-input-130-a075b42e689b>\u001b[0m in \u001b[0;36m<module>\u001b[0;34m\u001b[0m\n\u001b[0;32m----> 1\u001b[0;31m \u001b[0mnet\u001b[0m\u001b[0;34m.\u001b[0m\u001b[0mget_action\u001b[0m\u001b[0;34m(\u001b[0m\u001b[0mobservation\u001b[0m\u001b[0;34m,\u001b[0m\u001b[0mdevice\u001b[0m\u001b[0;34m)\u001b[0m\u001b[0;34m\u001b[0m\u001b[0;34m\u001b[0m\u001b[0m\n\u001b[0m",
      "\u001b[0;32m<ipython-input-122-9e9032351f6a>\u001b[0m in \u001b[0;36mget_action\u001b[0;34m(self, s, device, eps)\u001b[0m\n\u001b[1;32m     14\u001b[0m             \u001b[0;32mif\u001b[0m \u001b[0mnp\u001b[0m\u001b[0;34m.\u001b[0m\u001b[0mrandom\u001b[0m\u001b[0;34m.\u001b[0m\u001b[0mrandom\u001b[0m\u001b[0;34m(\u001b[0m\u001b[0;34m)\u001b[0m \u001b[0;34m>=\u001b[0m \u001b[0meps\u001b[0m \u001b[0;32mor\u001b[0m \u001b[0mself\u001b[0m\u001b[0;34m.\u001b[0m\u001b[0mstatic_policy\u001b[0m\u001b[0;34m:\u001b[0m\u001b[0;34m\u001b[0m\u001b[0;34m\u001b[0m\u001b[0m\n\u001b[1;32m     15\u001b[0m                 \u001b[0mX\u001b[0m \u001b[0;34m=\u001b[0m \u001b[0mtorch\u001b[0m\u001b[0;34m.\u001b[0m\u001b[0mtensor\u001b[0m\u001b[0;34m(\u001b[0m\u001b[0;34m[\u001b[0m\u001b[0ms\u001b[0m\u001b[0;34m]\u001b[0m\u001b[0;34m,\u001b[0m \u001b[0mdevice\u001b[0m\u001b[0;34m=\u001b[0m\u001b[0mdevice\u001b[0m\u001b[0;34m,\u001b[0m \u001b[0mdtype\u001b[0m\u001b[0;34m=\u001b[0m\u001b[0mtorch\u001b[0m\u001b[0;34m.\u001b[0m\u001b[0mfloat\u001b[0m\u001b[0;34m)\u001b[0m\u001b[0;34m\u001b[0m\u001b[0;34m\u001b[0m\u001b[0m\n\u001b[0;32m---> 16\u001b[0;31m                 \u001b[0ma\u001b[0m \u001b[0;34m=\u001b[0m \u001b[0mself\u001b[0m\u001b[0;34m.\u001b[0m\u001b[0mmodel\u001b[0m\u001b[0;34m(\u001b[0m\u001b[0mX\u001b[0m\u001b[0;34m)\u001b[0m\u001b[0;34m.\u001b[0m\u001b[0mmax\u001b[0m\u001b[0;34m(\u001b[0m\u001b[0;36m1\u001b[0m\u001b[0;34m)\u001b[0m\u001b[0;34m[\u001b[0m\u001b[0;36m1\u001b[0m\u001b[0;34m]\u001b[0m\u001b[0;34m.\u001b[0m\u001b[0mview\u001b[0m\u001b[0;34m(\u001b[0m\u001b[0;36m1\u001b[0m\u001b[0;34m,\u001b[0m \u001b[0;36m1\u001b[0m\u001b[0;34m)\u001b[0m\u001b[0;34m\u001b[0m\u001b[0;34m\u001b[0m\u001b[0m\n\u001b[0m\u001b[1;32m     17\u001b[0m                 \u001b[0;32mreturn\u001b[0m \u001b[0ma\u001b[0m\u001b[0;34m.\u001b[0m\u001b[0mitem\u001b[0m\u001b[0;34m(\u001b[0m\u001b[0;34m)\u001b[0m\u001b[0;34m\u001b[0m\u001b[0;34m\u001b[0m\u001b[0m\n\u001b[1;32m     18\u001b[0m             \u001b[0;32melse\u001b[0m\u001b[0;34m:\u001b[0m\u001b[0;34m\u001b[0m\u001b[0;34m\u001b[0m\u001b[0m\n",
      "\u001b[0;32m~/anaconda3/envs/doom-rl/lib/python3.6/site-packages/torch/nn/modules/module.py\u001b[0m in \u001b[0;36m__getattr__\u001b[0;34m(self, name)\u001b[0m\n\u001b[1;32m    537\u001b[0m                 \u001b[0;32mreturn\u001b[0m \u001b[0mmodules\u001b[0m\u001b[0;34m[\u001b[0m\u001b[0mname\u001b[0m\u001b[0;34m]\u001b[0m\u001b[0;34m\u001b[0m\u001b[0;34m\u001b[0m\u001b[0m\n\u001b[1;32m    538\u001b[0m         raise AttributeError(\"'{}' object has no attribute '{}'\".format(\n\u001b[0;32m--> 539\u001b[0;31m             type(self).__name__, name))\n\u001b[0m\u001b[1;32m    540\u001b[0m \u001b[0;34m\u001b[0m\u001b[0m\n\u001b[1;32m    541\u001b[0m     \u001b[0;32mdef\u001b[0m \u001b[0m__setattr__\u001b[0m\u001b[0;34m(\u001b[0m\u001b[0mself\u001b[0m\u001b[0;34m,\u001b[0m \u001b[0mname\u001b[0m\u001b[0;34m,\u001b[0m \u001b[0mvalue\u001b[0m\u001b[0;34m)\u001b[0m\u001b[0;34m:\u001b[0m\u001b[0;34m\u001b[0m\u001b[0;34m\u001b[0m\u001b[0m\n",
      "\u001b[0;31mAttributeError\u001b[0m: 'Net' object has no attribute 'model'"
     ]
    }
   ],
   "source": [
    "net.get_action(observation,device)"
   ]
  },
  {
   "cell_type": "code",
   "execution_count": 113,
   "metadata": {},
   "outputs": [
    {
     "data": {
      "text/plain": [
       "3"
      ]
     },
     "execution_count": 113,
     "metadata": {},
     "output_type": "execute_result"
    }
   ],
   "source": [
    "    def get_action(self, s,device, eps=0.1):\n",
    "        "
   ]
  },
  {
   "cell_type": "code",
   "execution_count": null,
   "metadata": {},
   "outputs": [],
   "source": [
    "observation = env.reset()\n",
    "for frame_idx in range(1, 100 + 1):\n",
    "    x_obs = torch.tensor([observation], device=device, dtype=torch.float).view(-1,84*84)\n",
    "    \n",
    "    with torch.no_grad():\n",
    "            if np.random.random() >= 0.1:\n",
    "                X = torch.tensor([s], device=device, dtype=torch.float)\n",
    "                a = self.model(X).max(1)[1].view(1, 1)\n",
    "                return a.item()\n",
    "            else:\n",
    "                return np.random.randint(0, self.num_actions)\n",
    "    action = net(x_obs).max(1)[1].view(1, 1).item()\n",
    "    list_of_observation.append(X)\n",
    "    list_of_q_values.append(Q)\n",
    "    action = model.get_action(observation, 0.01)\n",
    "\n",
    "    prev_observation=observation\n",
    "    observation, _, done, _ = env.step(action)\n",
    "    observation = None if done else observation\n",
    "\n",
    "    if done:\n",
    "        observation = env.reset()"
   ]
  },
  {
   "cell_type": "code",
   "execution_count": 73,
   "metadata": {
    "scrolled": true
   },
   "outputs": [
    {
     "data": {
      "text/plain": [
       "tensor([[0.0598, 0.0568, 0.0544, 0.0575],\n",
       "        [0.0598, 0.0568, 0.0544, 0.0575],\n",
       "        [0.0601, 0.0571, 0.0542, 0.0576],\n",
       "        [0.0598, 0.0568, 0.0544, 0.0575],\n",
       "        [0.0747, 0.0706, 0.0773, 0.0764],\n",
       "        [0.0760, 0.0720, 0.0783, 0.0776],\n",
       "        [0.0811, 0.0775, 0.0786, 0.0804],\n",
       "        [0.0721, 0.0688, 0.0684, 0.0708],\n",
       "        [0.0736, 0.0702, 0.0704, 0.0725],\n",
       "        [0.1141, 0.1105, 0.1068, 0.1115],\n",
       "        [0.1499, 0.1456, 0.1443, 0.1486],\n",
       "        [0.1533, 0.1504, 0.1324, 0.1447],\n",
       "        [0.1239, 0.1217, 0.0999, 0.1134],\n",
       "        [0.1133, 0.1101, 0.1015, 0.1086],\n",
       "        [0.1053, 0.1024, 0.0913, 0.0994],\n",
       "        [0.1032, 0.0998, 0.0947, 0.0999],\n",
       "        [0.0874, 0.0842, 0.0798, 0.0843],\n",
       "        [0.0940, 0.0907, 0.0859, 0.0908],\n",
       "        [0.0836, 0.0798, 0.0825, 0.0837],\n",
       "        [0.0825, 0.0784, 0.0839, 0.0837],\n",
       "        [0.0858, 0.0819, 0.0854, 0.0862],\n",
       "        [0.0832, 0.0793, 0.0832, 0.0838],\n",
       "        [0.0817, 0.0779, 0.0807, 0.0818],\n",
       "        [0.0839, 0.0802, 0.0821, 0.0836],\n",
       "        [0.0811, 0.0775, 0.0786, 0.0805],\n",
       "        [0.0792, 0.0755, 0.0772, 0.0788],\n",
       "        [0.0749, 0.0713, 0.0722, 0.0741],\n",
       "        [0.0755, 0.0720, 0.0723, 0.0744],\n",
       "        [0.0774, 0.0738, 0.0752, 0.0769],\n",
       "        [0.0784, 0.0750, 0.0737, 0.0767],\n",
       "        [0.0782, 0.0747, 0.0749, 0.0772],\n",
       "        [0.0783, 0.0753, 0.0697, 0.0747],\n",
       "        [0.1330, 0.1294, 0.1216, 0.1287],\n",
       "        [0.1265, 0.1226, 0.1200, 0.1245],\n",
       "        [0.1259, 0.1224, 0.1154, 0.1219],\n",
       "        [0.1123, 0.1090, 0.1021, 0.1083],\n",
       "        [0.1131, 0.1097, 0.1034, 0.1094],\n",
       "        [0.1128, 0.1093, 0.1038, 0.1094],\n",
       "        [0.1169, 0.1134, 0.1079, 0.1136],\n",
       "        [0.1049, 0.1013, 0.0977, 0.1023],\n",
       "        [0.0976, 0.0942, 0.0899, 0.0946],\n",
       "        [0.0831, 0.0793, 0.0818, 0.0830],\n",
       "        [0.0818, 0.0778, 0.0833, 0.0831],\n",
       "        [0.0829, 0.0789, 0.0836, 0.0838],\n",
       "        [0.0891, 0.0854, 0.0863, 0.0884],\n",
       "        [0.0817, 0.0780, 0.0798, 0.0814],\n",
       "        [0.0824, 0.0786, 0.0810, 0.0823],\n",
       "        [0.0854, 0.0814, 0.0855, 0.0861],\n",
       "        [0.0699, 0.0663, 0.0684, 0.0696],\n",
       "        [0.0654, 0.0619, 0.0642, 0.0652],\n",
       "        [0.0764, 0.0727, 0.0745, 0.0760],\n",
       "        [0.0730, 0.0690, 0.0750, 0.0744],\n",
       "        [0.0765, 0.0726, 0.0772, 0.0774],\n",
       "        [0.0843, 0.0806, 0.0824, 0.0840],\n",
       "        [0.0843, 0.0806, 0.0824, 0.0840],\n",
       "        [0.0843, 0.0806, 0.0824, 0.0840],\n",
       "        [0.0843, 0.0806, 0.0824, 0.0840],\n",
       "        [0.0843, 0.0806, 0.0824, 0.0840],\n",
       "        [0.0843, 0.0806, 0.0824, 0.0840],\n",
       "        [0.0979, 0.0943, 0.0933, 0.0965],\n",
       "        [0.1003, 0.0967, 0.0948, 0.0985],\n",
       "        [0.0970, 0.0927, 0.0982, 0.0983],\n",
       "        [0.0921, 0.0879, 0.0936, 0.0935],\n",
       "        [0.0902, 0.0859, 0.0929, 0.0922],\n",
       "        [0.0887, 0.0843, 0.0920, 0.0909],\n",
       "        [0.0890, 0.0845, 0.0938, 0.0919],\n",
       "        [0.0895, 0.0852, 0.0932, 0.0920],\n",
       "        [0.0876, 0.0831, 0.0935, 0.0911],\n",
       "        [0.0864, 0.0820, 0.0910, 0.0892],\n",
       "        [0.0892, 0.0849, 0.0917, 0.0910],\n",
       "        [0.0861, 0.0818, 0.0891, 0.0882],\n",
       "        [0.0795, 0.0754, 0.0821, 0.0813],\n",
       "        [0.0742, 0.0704, 0.0745, 0.0748],\n",
       "        [0.0811, 0.0768, 0.0850, 0.0835],\n",
       "        [0.0813, 0.0770, 0.0864, 0.0844],\n",
       "        [0.0812, 0.0768, 0.0874, 0.0848],\n",
       "        [0.0870, 0.0828, 0.0896, 0.0889],\n",
       "        [0.0845, 0.0804, 0.0864, 0.0860],\n",
       "        [0.1129, 0.1083, 0.1158, 0.1152],\n",
       "        [0.1098, 0.1051, 0.1133, 0.1124],\n",
       "        [0.1004, 0.0955, 0.1084, 0.1051],\n",
       "        [0.0924, 0.0877, 0.0995, 0.0965],\n",
       "        [0.0919, 0.0873, 0.0973, 0.0952],\n",
       "        [0.0969, 0.0923, 0.1015, 0.0998],\n",
       "        [0.0915, 0.0867, 0.0989, 0.0957],\n",
       "        [0.0937, 0.0892, 0.0986, 0.0968],\n",
       "        [0.0930, 0.0884, 0.0982, 0.0962],\n",
       "        [0.0937, 0.0892, 0.0978, 0.0964],\n",
       "        [0.0902, 0.0856, 0.0958, 0.0936],\n",
       "        [0.0830, 0.0788, 0.0858, 0.0849],\n",
       "        [0.1216, 0.1174, 0.1184, 0.1211],\n",
       "        [0.0676, 0.0643, 0.0644, 0.0665],\n",
       "        [0.0683, 0.0650, 0.0642, 0.0667],\n",
       "        [0.0633, 0.0602, 0.0584, 0.0613],\n",
       "        [0.0640, 0.0608, 0.0593, 0.0621],\n",
       "        [0.0634, 0.0601, 0.0600, 0.0621],\n",
       "        [0.0630, 0.0599, 0.0584, 0.0612],\n",
       "        [0.0632, 0.0600, 0.0593, 0.0617],\n",
       "        [0.0621, 0.0589, 0.0585, 0.0607],\n",
       "        [0.1108, 0.1072, 0.1040, 0.1085]], device='cuda:0',\n",
       "       grad_fn=<AddmmBackward>)"
      ]
     },
     "execution_count": 73,
     "metadata": {},
     "output_type": "execute_result"
    }
   ],
   "source": [
    "net(x)"
   ]
  }
 ],
 "metadata": {
  "kernelspec": {
   "display_name": "Python doom-rl",
   "language": "python",
   "name": "doom-rl"
  },
  "language_info": {
   "codemirror_mode": {
    "name": "ipython",
    "version": 3
   },
   "file_extension": ".py",
   "mimetype": "text/x-python",
   "name": "python",
   "nbconvert_exporter": "python",
   "pygments_lexer": "ipython3",
   "version": "3.6.7"
  }
 },
 "nbformat": 4,
 "nbformat_minor": 2
}
